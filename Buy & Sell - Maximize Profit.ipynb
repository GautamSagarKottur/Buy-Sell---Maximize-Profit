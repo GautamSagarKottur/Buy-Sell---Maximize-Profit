{
 "cells": [
  {
   "cell_type": "markdown",
   "metadata": {},
   "source": [
    "Given a list of stock prices on some consecutive days, maximize the profit by choosing a single day to buy one stock and choosing a different day in the future to sell that stock.\n",
    "Return the maximum profit that can be achieved from this transaction. If no profit, return some message."
   ]
  },
  {
   "cell_type": "code",
   "execution_count": 8,
   "metadata": {},
   "outputs": [],
   "source": [
    "def buysell(x):\n",
    "    temp = []\n",
    "    if len(x) == 0:\n",
    "        return 0\n",
    "    for i in range(len(x)):\n",
    "        temp.append((x[i],max([j - x[i] for j in x[i:]]))) #get the difference of value with all other values in positive direction and append the value and its max difference value to temp\n",
    "    #temp = [(buy value, max profit)]\n",
    "    #sort (max to min) the list of tuples by second element. \n",
    "    #Now the first element would be the value and max difference value of all combinations\n",
    "    q = sorted(temp,key=lambda x:x[1], reverse=True)[0] \n",
    "    #If buy value is the first element then profit is not possible\n",
    "    if q[0] == x[0] and q[0]+q[1] == x[0]: \n",
    "        return print('profit not possible') \n",
    "    else:\n",
    "        #return buy and sell day as position of +1  \n",
    "        return print(f'buy on day: {x.index(q[0])+1}', f'sell on day: {x.index(q[0]+q[1])+1}') \n"
   ]
  },
  {
   "cell_type": "code",
   "execution_count": 9,
   "metadata": {},
   "outputs": [
    {
     "name": "stdout",
     "output_type": "stream",
     "text": [
      "buy on day: 5 sell on day: 7\n"
     ]
    }
   ],
   "source": [
    "buysell([100, 180, 260, 310, 40, 535, 695])"
   ]
  },
  {
   "cell_type": "code",
   "execution_count": 10,
   "metadata": {},
   "outputs": [
    {
     "name": "stdout",
     "output_type": "stream",
     "text": [
      "buy on day: 2 sell on day: 5\n"
     ]
    }
   ],
   "source": [
    "buysell([7,1,5,3,6,4])"
   ]
  },
  {
   "cell_type": "code",
   "execution_count": 11,
   "metadata": {},
   "outputs": [
    {
     "name": "stdout",
     "output_type": "stream",
     "text": [
      "buy on day: 5 sell on day: 7\n"
     ]
    }
   ],
   "source": [
    "buysell([100, 30, 15, 10, 8, 25, 80])"
   ]
  },
  {
   "cell_type": "code",
   "execution_count": 12,
   "metadata": {},
   "outputs": [
    {
     "name": "stdout",
     "output_type": "stream",
     "text": [
      "profit not possible\n"
     ]
    }
   ],
   "source": [
    "buysell([90, 80, 70, 60, 50])"
   ]
  },
  {
   "cell_type": "code",
   "execution_count": null,
   "metadata": {},
   "outputs": [],
   "source": []
  }
 ],
 "metadata": {
  "kernelspec": {
   "display_name": "Python 3",
   "language": "python",
   "name": "python3"
  },
  "language_info": {
   "codemirror_mode": {
    "name": "ipython",
    "version": 3
   },
   "file_extension": ".py",
   "mimetype": "text/x-python",
   "name": "python",
   "nbconvert_exporter": "python",
   "pygments_lexer": "ipython3",
   "version": "3.7.6"
  }
 },
 "nbformat": 4,
 "nbformat_minor": 2
}
